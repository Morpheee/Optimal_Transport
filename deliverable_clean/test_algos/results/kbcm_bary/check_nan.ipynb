{
 "cells": [
  {
   "cell_type": "code",
   "execution_count": 1,
   "metadata": {},
   "outputs": [],
   "source": [
    "import numpy as np\n",
    "import sys\n",
    "import os\n",
    "import matplotlib.pyplot as plt"
   ]
  },
  {
   "cell_type": "code",
   "execution_count": 4,
   "metadata": {},
   "outputs": [],
   "source": [
    "def get_files(path=\"./results\"):\n",
    "    onlyfiles = [f for f in os.listdir(path) if os.path.isfile(os.path.join(path, f))]\n",
    "    onlyfiles = [file for file in onlyfiles if (file[-4:] == \".npy\")]\n",
    "    onlyfiles.sort()\n",
    "\n",
    "    return onlyfiles"
   ]
  },
  {
   "cell_type": "code",
   "execution_count": 5,
   "metadata": {},
   "outputs": [
    {
     "name": "stdout",
     "output_type": "stream",
     "text": [
      "['bary_noiselvl_0.000_reg_0.5_c_-0.5_iters_100_sample_4_intensity_maxmin.npy', 'bary_noiselvl_0.000_reg_0.9_c_-0.5_iters_100_sample_4_intensity_maxmin.npy', 'bary_noiselvl_0.000_reg_1_c_-0.5_iters_100_sample_4_intensity_maxmin.npy', 'bary_noiselvl_0.000_reg_5_c_-0.5_iters_100_sample_4_intensity_maxmin.npy', 'bary_noiselvl_0.100_reg_0.5_c_-0.5_iters_100_sample_4_intensity_maxmin.npy', 'bary_noiselvl_0.100_reg_0.9_c_-0.5_iters_100_sample_4_intensity_maxmin.npy', 'bary_noiselvl_0.100_reg_1_c_-0.5_iters_100_sample_4_intensity_maxmin.npy', 'bary_noiselvl_0.100_reg_5_c_-0.5_iters_100_sample_4_intensity_maxmin.npy', 'bary_noiselvl_0.200_reg_0.5_c_-0.5_iters_100_sample_4_intensity_maxmin.npy', 'bary_noiselvl_0.200_reg_0.9_c_-0.5_iters_100_sample_4_intensity_maxmin.npy', 'bary_noiselvl_0.200_reg_1_c_-0.5_iters_100_sample_4_intensity_maxmin.npy', 'bary_noiselvl_0.200_reg_5_c_-0.5_iters_100_sample_4_intensity_maxmin.npy', 'bary_noiselvl_0.500_reg_0.5_c_-0.5_iters_100_sample_4_intensity_maxmin.npy', 'bary_noiselvl_0.500_reg_0.9_c_-0.5_iters_100_sample_4_intensity_maxmin.npy', 'bary_noiselvl_0.500_reg_1_c_-0.5_iters_100_sample_4_intensity_maxmin.npy', 'bary_noiselvl_0.500_reg_5_c_-0.5_iters_100_sample_4_intensity_maxmin.npy', 'bary_noiselvl_1.000_reg_0.5_c_-0.5_iters_100_sample_4_intensity_maxmin.npy', 'bary_noiselvl_1.000_reg_0.9_c_-0.5_iters_100_sample_4_intensity_maxmin.npy', 'bary_noiselvl_1.000_reg_1_c_-0.5_iters_100_sample_4_intensity_maxmin.npy', 'bary_noiselvl_1.000_reg_5_c_-0.5_iters_100_sample_4_intensity_maxmin.npy']\n"
     ]
    }
   ],
   "source": [
    "files = get_files(\".\")\n",
    "print(files)"
   ]
  },
  {
   "cell_type": "code",
   "execution_count": 12,
   "metadata": {},
   "outputs": [
    {
     "name": "stdout",
     "output_type": "stream",
     "text": [
      "\n",
      "0.0\n",
      "bary_noiselvl_0.000_reg_0.5_c_-0.5_iters_100_sample_4_intensity_maxmin.npy \t True\n",
      "bary_noiselvl_0.000_reg_0.9_c_-0.5_iters_100_sample_4_intensity_maxmin.npy \t True\n",
      "bary_noiselvl_0.000_reg_1_c_-0.5_iters_100_sample_4_intensity_maxmin.npy \t True\n",
      "bary_noiselvl_0.000_reg_5_c_-0.5_iters_100_sample_4_intensity_maxmin.npy \t False\n",
      "\n",
      "0.1\n",
      "bary_noiselvl_0.100_reg_0.5_c_-0.5_iters_100_sample_4_intensity_maxmin.npy \t True\n",
      "bary_noiselvl_0.100_reg_0.9_c_-0.5_iters_100_sample_4_intensity_maxmin.npy \t True\n",
      "bary_noiselvl_0.100_reg_1_c_-0.5_iters_100_sample_4_intensity_maxmin.npy \t True\n",
      "bary_noiselvl_0.100_reg_5_c_-0.5_iters_100_sample_4_intensity_maxmin.npy \t False\n",
      "\n",
      "0.2\n",
      "bary_noiselvl_0.200_reg_0.5_c_-0.5_iters_100_sample_4_intensity_maxmin.npy \t True\n",
      "bary_noiselvl_0.200_reg_0.9_c_-0.5_iters_100_sample_4_intensity_maxmin.npy \t True\n",
      "bary_noiselvl_0.200_reg_1_c_-0.5_iters_100_sample_4_intensity_maxmin.npy \t True\n",
      "bary_noiselvl_0.200_reg_5_c_-0.5_iters_100_sample_4_intensity_maxmin.npy \t False\n",
      "\n",
      "0.5\n",
      "bary_noiselvl_0.500_reg_0.5_c_-0.5_iters_100_sample_4_intensity_maxmin.npy \t True\n",
      "bary_noiselvl_0.500_reg_0.9_c_-0.5_iters_100_sample_4_intensity_maxmin.npy \t True\n",
      "bary_noiselvl_0.500_reg_1_c_-0.5_iters_100_sample_4_intensity_maxmin.npy \t True\n",
      "bary_noiselvl_0.500_reg_5_c_-0.5_iters_100_sample_4_intensity_maxmin.npy \t False\n",
      "\n",
      "1.0\n",
      "bary_noiselvl_1.000_reg_0.5_c_-0.5_iters_100_sample_4_intensity_maxmin.npy \t True\n",
      "bary_noiselvl_1.000_reg_0.9_c_-0.5_iters_100_sample_4_intensity_maxmin.npy \t True\n",
      "bary_noiselvl_1.000_reg_1_c_-0.5_iters_100_sample_4_intensity_maxmin.npy \t True\n",
      "bary_noiselvl_1.000_reg_5_c_-0.5_iters_100_sample_4_intensity_maxmin.npy \t False\n"
     ]
    }
   ],
   "source": [
    "noise_lvl_old = -1\n",
    "for file in files:\n",
    "    noise_lvl_new = float(file[14:19])\n",
    "    if noise_lvl_new > noise_lvl_old :\n",
    "        noise_lvl_old = noise_lvl_new\n",
    "        print(\"\\n\"+str(noise_lvl_new))\n",
    "    arr = np.load(file)\n",
    "    print(file, \"\\t\", True if np.isnan(arr).sum() == 0 else False)"
   ]
  },
  {
   "cell_type": "code",
   "execution_count": null,
   "metadata": {},
   "outputs": [],
   "source": []
  }
 ],
 "metadata": {
  "kernelspec": {
   "display_name": "Python 3",
   "language": "python",
   "name": "python3"
  },
  "language_info": {
   "codemirror_mode": {
    "name": "ipython",
    "version": 3
   },
   "file_extension": ".py",
   "mimetype": "text/x-python",
   "name": "python",
   "nbconvert_exporter": "python",
   "pygments_lexer": "ipython3",
   "version": "3.8.10"
  }
 },
 "nbformat": 4,
 "nbformat_minor": 4
}
