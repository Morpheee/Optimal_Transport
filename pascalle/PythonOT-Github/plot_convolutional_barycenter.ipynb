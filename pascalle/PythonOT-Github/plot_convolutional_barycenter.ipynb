{
 "cells": [
  {
   "cell_type": "code",
   "execution_count": null,
   "metadata": {},
   "outputs": [],
   "source": [
    "%matplotlib inline"
   ]
  },
  {
   "cell_type": "markdown",
   "metadata": {},
   "source": [
    "\n",
    "# Convolutional Wasserstein Barycenter example\n",
    "\n",
    "This example is designed to illustrate how the Convolutional Wasserstein Barycenter\n",
    "function of POT works.\n"
   ]
  },
  {
   "cell_type": "code",
   "execution_count": 6,
   "metadata": {},
   "outputs": [],
   "source": [
    "# Author: Nicolas Courty <ncourty@irisa.fr>\n",
    "#\n",
    "# License: MIT License\n",
    "\n",
    "\n",
    "import numpy as np\n",
    "import pylab as pl\n",
    "import ot"
   ]
  },
  {
   "cell_type": "markdown",
   "metadata": {},
   "source": [
    "## Data preparation\n",
    "\n",
    "The four distributions are constructed from 4 simple images\n",
    "\n"
   ]
  },
  {
   "cell_type": "code",
   "execution_count": 7,
   "metadata": {},
   "outputs": [],
   "source": [
    "f1 = 1 - pl.imread('/Users/bananasacks/Desktop/Optimal Transport Internship/PythonOT-Github/data/redcross.png')[:, :, 2]\n",
    "f2 = 1 - pl.imread('/Users/bananasacks/Desktop/Optimal Transport Internship/PythonOT-Github/data/duck.png')[:, :, 2]\n",
    "f3 = 1 - pl.imread('/Users/bananasacks/Desktop/Optimal Transport Internship/PythonOT-Github/data/heart.png')[:, :, 2]\n",
    "f4 = 1 - pl.imread('/Users/bananasacks/Desktop/Optimal Transport Internship/PythonOT-Github/data/tooth.png')[:, :, 2]\n",
    "\n",
    "A = []\n",
    "f1 = f1 / np.sum(f1)\n",
    "f2 = f2 / np.sum(f2)\n",
    "f3 = f3 / np.sum(f3)\n",
    "f4 = f4 / np.sum(f4)\n",
    "A.append(f1)\n",
    "A.append(f2)\n",
    "A.append(f3)\n",
    "A.append(f4)\n",
    "A = np.array(A)\n",
    "\n",
    "nb_images = 5\n",
    "\n",
    "# those are the four corners coordinates that will be interpolated by bilinear\n",
    "# interpolation\n",
    "v1 = np.array((1, 0, 0, 0))\n",
    "v2 = np.array((0, 1, 0, 0))\n",
    "v3 = np.array((0, 0, 1, 0))\n",
    "v4 = np.array((0, 0, 0, 1))"
   ]
  },
  {
   "cell_type": "code",
   "execution_count": 32,
   "metadata": {},
   "outputs": [
    {
     "data": {
      "text/plain": [
       "array([[1., 1., 1., ..., 1., 1., 1.],\n",
       "       [1., 1., 1., ..., 1., 1., 1.],\n",
       "       [1., 1., 1., ..., 1., 1., 1.],\n",
       "       ...,\n",
       "       [1., 1., 1., ..., 1., 1., 1.],\n",
       "       [1., 1., 1., ..., 1., 1., 1.],\n",
       "       [1., 1., 1., ..., 1., 1., 1.]], dtype=float32)"
      ]
     },
     "execution_count": 32,
     "metadata": {},
     "output_type": "execute_result"
    }
   ],
   "source": []
  },
  {
   "cell_type": "markdown",
   "metadata": {},
   "source": [
    "## Barycenter computation and visualization\n",
    "\n",
    "\n"
   ]
  },
  {
   "cell_type": "code",
   "execution_count": null,
   "metadata": {},
   "outputs": [],
   "source": [
    "pl.figure(figsize=(10, 10))\n",
    "pl.title('Convolutional Wasserstein Barycenters in POT')\n",
    "cm = 'Blues'\n",
    "# regularization parameter\n",
    "reg = 0.004\n",
    "for i in range(nb_images):\n",
    "    for j in range(nb_images):\n",
    "        pl.subplot(nb_images, nb_images, i * nb_images + j + 1)\n",
    "        tx = float(i) / (nb_images - 1)\n",
    "        ty = float(j) / (nb_images - 1)\n",
    "\n",
    "        # weights are constructed by bilinear interpolation\n",
    "        tmp1 = (1 - tx) * v1 + tx * v2\n",
    "        tmp2 = (1 - tx) * v3 + tx * v4\n",
    "        weights = (1 - ty) * tmp1 + ty * tmp2\n",
    "\n",
    "        if i == 0 and j == 0:\n",
    "            pl.imshow(f1, cmap=cm)\n",
    "            pl.axis('off')\n",
    "        elif i == 0 and j == (nb_images - 1):\n",
    "            pl.imshow(f3, cmap=cm)\n",
    "            pl.axis('off')\n",
    "        elif i == (nb_images - 1) and j == 0:\n",
    "            pl.imshow(f2, cmap=cm)\n",
    "            pl.axis('off')\n",
    "        elif i == (nb_images - 1) and j == (nb_images - 1):\n",
    "            pl.imshow(f4, cmap=cm)\n",
    "            pl.axis('off')\n",
    "        else:\n",
    "            # call to barycenter computation\n",
    "            pl.imshow(ot.bregman.convolutional_barycenter2d(A, reg, weights), cmap=cm)\n",
    "            pl.axis('off')\n",
    "pl.show()"
   ]
  },
  {
   "cell_type": "code",
   "execution_count": null,
   "metadata": {},
   "outputs": [],
   "source": [
    "#Notes:\n",
    "#imread: The image data. The returned array has shape\n",
    "#(M, N) for grayscale images.\n",
    "#(M, N, 3) for RGB images.\n",
    "#(M, N, 4) for RGBA images.\n",
    "#image[:,:,0] represents Blue channel\n",
    "#image[:,:,1] represents Green channel\n",
    "#image[:,:,2] represents Red channel\n",
    "#image[:,:,3] represents Transparency channel\n",
    "#image.shape gives number of pixels high, number of pixels wide, and number of channels"
   ]
  }
 ],
 "metadata": {
  "kernelspec": {
   "display_name": "Python 3",
   "language": "python",
   "name": "python3"
  },
  "language_info": {
   "codemirror_mode": {
    "name": "ipython",
    "version": 3
   },
   "file_extension": ".py",
   "mimetype": "text/x-python",
   "name": "python",
   "nbconvert_exporter": "python",
   "pygments_lexer": "ipython3",
   "version": "3.7.6"
  }
 },
 "nbformat": 4,
 "nbformat_minor": 1
}
