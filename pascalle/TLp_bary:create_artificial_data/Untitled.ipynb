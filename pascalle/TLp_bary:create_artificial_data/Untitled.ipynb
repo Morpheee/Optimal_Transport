{
 "cells": [
  {
   "cell_type": "code",
   "execution_count": 10,
   "metadata": {},
   "outputs": [],
   "source": [
    "import numpy as np\n",
    "from scipy.stats import multivariate_normal\n",
    "from matplotlib import pyplot as plt\n"
   ]
  },
  {
   "cell_type": "code",
   "execution_count": 11,
   "metadata": {},
   "outputs": [],
   "source": [
    "nb_samples = 4\n",
    "x_size, y_size = 50, 50\n",
    "# activated zone\n",
    "amplitudes = np.random.normal(5, 1, nb_samples)\n",
    "signalN = 11\n",
    "mean = 0\n",
    "square_sig = 0.1\n",
    "X = np.linspace(-0.5, 0.5, signalN)\n",
    "Y = np.linspace(-0.5, 0.5, signalN)\n",
    "X, Y = np.meshgrid(X, Y)"
   ]
  },
  {
   "cell_type": "code",
   "execution_count": 12,
   "metadata": {},
   "outputs": [],
   "source": [
    "pos = np.empty(X.shape + (2, ))\n",
    "pos[:, :, 0] = X\n",
    "pos[:, :, 1] = Y\n",
    "signal_matrix = np.empty((nb_samples, signalN, signalN))\n",
    "for i in range(nb_samples):\n",
    "    mu = np.array([mean, mean])\n",
    "    Sigma = np.array([[square_sig, 0], [0, square_sig]])\n",
    "    F = multivariate_normal(mu, Sigma)\n",
    "    Z = F.pdf(pos)\n",
    "    Z = Z / Z.max() * amplitudes[i]\n",
    "    signal_matrix[i] = Z"
   ]
  },
  {
   "cell_type": "code",
   "execution_count": 13,
   "metadata": {},
   "outputs": [],
   "source": [
    "# coordinates of the center of the activated zone\n",
    "coors = []\n",
    "for i in range(nb_samples):\n",
    "    t = 2 * np.pi * np.random.uniform(0, 1)\n",
    "    r = np.sqrt(np.random.uniform(0, 225))\n",
    "    coor = [r * np.cos(t), r * np.sin(t)]\n",
    "    coors.append(coor)\n",
    "coors = np.vstack(coors)\n",
    "coors += np.array([25, 25])\n",
    "coors = coors.astype(int)"
   ]
  },
  {
   "cell_type": "code",
   "execution_count": 14,
   "metadata": {},
   "outputs": [],
   "source": [
    "# images with signal and noise\n",
    "noise_level = 0.1\n",
    "noise_mean = 0\n",
    "gap = int(np.floor(signalN / 2))\n",
    "signals = signal_matrix\n",
    "noisefrees = np.zeros([nb_samples, x_size, y_size])\n",
    "patterns = np.zeros([nb_samples, x_size, y_size])\n",
    "for sample_id in range(nb_samples):\n",
    "    loc = coors[sample_id]\n",
    "    noisefrees[sample_id][loc[0] - gap:loc[0] + gap + 1, loc[1] - gap:loc[1] + gap + 1] \\\n",
    "        = signals[sample_id]\n",
    "    patterns[sample_id] = noisefrees[sample_id] + \\\n",
    "                          np.random.normal(noise_mean, noise_level,\n",
    "                                           (x_size, y_size))"
   ]
  },
  {
   "cell_type": "code",
   "execution_count": 17,
   "metadata": {},
   "outputs": [
    {
     "data": {
      "text/plain": [
       "<matplotlib.collections.PathCollection at 0x7fa14869e590>"
      ]
     },
     "execution_count": 17,
     "metadata": {},
     "output_type": "execute_result"
    },
    {
     "data": {
      "image/png": "[encoded data removed]",
      "text/plain": [
       "<Figure size 432x288 with 1 Axes>"
      ]
     },
     "metadata": {
      "needs_background": "light"
     },
     "output_type": "display_data"
    }
   ],
   "source": [
    "plt.scatter(X,Y, Z)"
   ]
  },
  {
   "cell_type": "code",
   "execution_count": null,
   "metadata": {},
   "outputs": [],
   "source": [
    "\n",
    "\n",
    "\n",
    "\n",
    "\n",
    "\n",
    "\n",
    "\n",
    "\n",
    "np.save('/artificial_data.npy', patterns)"
   ]
  }
 ],
 "metadata": {
  "kernelspec": {
   "display_name": "Python 3",
   "language": "python",
   "name": "python3"
  },
  "language_info": {
   "codemirror_mode": {
    "name": "ipython",
    "version": 3
   },
   "file_extension": ".py",
   "mimetype": "text/x-python",
   "name": "python",
   "nbconvert_exporter": "python",
   "pygments_lexer": "ipython3",
   "version": "3.7.6"
  }
 },
 "nbformat": 4,
 "nbformat_minor": 4
}
