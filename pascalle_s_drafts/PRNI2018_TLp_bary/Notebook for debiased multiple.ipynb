{
 "cells": [
  {
   "cell_type": "code",
   "execution_count": 1,
   "id": "cb4bbe98",
   "metadata": {},
   "outputs": [],
   "source": [
    "#Uses debiased sinkhorn method to compare random PAIRS of images\n",
    "#to visualize and determine robustness to noise\n",
    "\n",
    "import math\n",
    "import matplotlib.pyplot as plt\n",
    "import numpy as np\n",
    "import torch\n",
    "import ot\n",
    "import os\n",
    "import warnings\n",
    "import sys\n",
    "import sinkhorn_barycenters as sink\n",
    "from itertools import combinations\n",
    "\n",
    "#set variables\n",
    "n = 3 #choosing how many datasets to use (noise, no noise) for one barycenter\n",
    "epsilon = .2 #will optimize this later\n",
    "max_iterations = int(1e6) #will optimize this later\n",
    "width = 50\n",
    "rng = np.random.RandomState(42)#42"
   ]
  },
  {
   "cell_type": "code",
   "execution_count": 2,
   "id": "4325d230",
   "metadata": {},
   "outputs": [],
   "source": [
    "#function to choose n random artificial datasets\n",
    "def find_index(n):\n",
    "    index = rng.choice(np.arange(200), size=(n), replace=False)\n",
    "    index.sort()\n",
    "    return index\n",
    "\n",
    "#returing variables\n",
    "index = find_index(n)"
   ]
  },
  {
   "cell_type": "code",
   "execution_count": 40,
   "id": "0dfa2389",
   "metadata": {},
   "outputs": [],
   "source": [
    "#load datasets, this function takes the random indexes and loads n pairs of artificial data with and without noise\n",
    "def load_data(num_pairs, index):\n",
    "    noise = []\n",
    "    nonoise = []\n",
    "    for i in range(len(index)):\n",
    "        noise.append(abs(np.load(\"./artificial_data.npy\")[index[i], :, :]))\n",
    "        nonoise.append(np.load(\"./artificial_data_no_noise.npy\")[index[i], :, :])\n",
    "    return np.asarray(noise), np.asarray(nonoise)\n",
    "        \n",
    "\n",
    "#returning variables\n",
    "noise, nonoise = load_data(n,index) "
   ]
  },
  {
   "cell_type": "code",
   "execution_count": 41,
   "id": "784a55f7",
   "metadata": {},
   "outputs": [],
   "source": [
    "#formatting function\n",
    "def debiased_format(dataset, epsilon):\n",
    "    P = torch.from_numpy(dataset)    \n",
    "    grid = torch.arange(width).type(torch.float64)\n",
    "    grid /= width\n",
    "    M = (grid[:, None] - grid[None, :]) ** 2\n",
    "    K = torch.exp(- M / epsilon)\n",
    "    #K = torch.from_numpy(K)\n",
    "    return P, K\n",
    "\n",
    "#creating variables for debiased algo\n",
    "P_nonoise, K_nonoise = debiased_format(nonoise, epsilon)\n",
    "P_noise, K_noise = debiased_format(noise, epsilon)\n"
   ]
  },
  {
   "cell_type": "code",
   "execution_count": 42,
   "id": "cc0664b6",
   "metadata": {},
   "outputs": [
    {
     "name": "stdout",
     "output_type": "stream",
     "text": [
      "tensor([[[6.5973e-02, 1.8719e-01, 1.4802e-01,  ..., 1.1868e-01,\n",
      "          6.6172e-02, 6.1925e-02],\n",
      "         [1.5372e-01, 1.9046e-01, 7.0583e-02,  ..., 2.7640e-02,\n",
      "          1.2176e-02, 6.4757e-02],\n",
      "         [1.0717e-01, 6.5578e-02, 2.2273e-01,  ..., 2.5751e-02,\n",
      "          7.0427e-02, 9.5590e-02],\n",
      "         ...,\n",
      "         [6.5839e-02, 3.3335e-02, 3.9932e-02,  ..., 9.3424e-02,\n",
      "          2.4410e-01, 4.7645e-03],\n",
      "         [9.8129e-03, 1.2107e-01, 5.1786e-02,  ..., 5.4998e-02,\n",
      "          1.6786e-02, 2.5311e-02],\n",
      "         [1.3334e-01, 1.5809e-01, 6.8761e-02,  ..., 1.9260e-02,\n",
      "          4.4917e-02, 6.5883e-02]],\n",
      "\n",
      "        [[3.9960e-02, 1.6421e-01, 8.3091e-03,  ..., 2.0478e-02,\n",
      "          7.3889e-02, 1.1546e-01],\n",
      "         [7.9505e-02, 4.0041e-02, 6.7792e-02,  ..., 1.7357e-01,\n",
      "          2.3444e-05, 1.3494e-01],\n",
      "         [1.1463e-01, 7.9913e-02, 4.6754e-03,  ..., 9.1784e-03,\n",
      "          5.8301e-02, 2.5026e-02],\n",
      "         ...,\n",
      "         [6.0241e-02, 2.2149e-01, 9.9053e-02,  ..., 2.5155e-01,\n",
      "          1.5022e-01, 1.1922e-02],\n",
      "         [5.5296e-03, 3.3429e-02, 5.1400e-02,  ..., 7.4086e-02,\n",
      "          4.1701e-02, 9.7173e-02],\n",
      "         [1.4634e-01, 1.0823e-02, 9.3453e-02,  ..., 1.8579e-03,\n",
      "          6.9459e-02, 1.2261e-01]],\n",
      "\n",
      "        [[1.7000e-02, 1.8560e-01, 8.1368e-02,  ..., 9.2288e-02,\n",
      "          1.0489e-01, 1.9893e-02],\n",
      "         [7.4068e-02, 6.3843e-02, 1.1909e-01,  ..., 1.2220e-01,\n",
      "          1.0038e-01, 1.0142e-01],\n",
      "         [1.4631e-02, 1.3397e-01, 8.4638e-02,  ..., 2.6834e-02,\n",
      "          2.4064e-03, 2.1778e-02],\n",
      "         ...,\n",
      "         [1.1624e-01, 2.0206e-02, 6.3903e-02,  ..., 4.8821e-03,\n",
      "          1.0432e-01, 4.2075e-02],\n",
      "         [7.7123e-02, 1.6588e-01, 4.8098e-02,  ..., 4.3620e-02,\n",
      "          8.5845e-02, 5.5807e-02],\n",
      "         [5.0059e-02, 1.2234e-01, 1.5860e-01,  ..., 4.1697e-03,\n",
      "          1.2123e-01, 1.6655e-01]]], dtype=torch.float64)\n"
     ]
    }
   ],
   "source": [
    "print(P_noise)"
   ]
  },
  {
   "cell_type": "code",
   "execution_count": 43,
   "id": "8fe50642",
   "metadata": {},
   "outputs": [
    {
     "ename": "KeyboardInterrupt",
     "evalue": "",
     "output_type": "error",
     "traceback": [
      "\u001b[0;31m---------------------------------------------------------------------------\u001b[0m",
      "\u001b[0;31mKeyboardInterrupt\u001b[0m                         Traceback (most recent call last)",
      "\u001b[0;32m<ipython-input-43-a9f802fc1ec1>\u001b[0m in \u001b[0;36m<module>\u001b[0;34m\u001b[0m\n\u001b[1;32m      6\u001b[0m \u001b[0;34m\u001b[0m\u001b[0m\n\u001b[1;32m      7\u001b[0m \u001b[0;34m\u001b[0m\u001b[0m\n\u001b[0;32m----> 8\u001b[0;31m \u001b[0mq_nonoise_mult\u001b[0m\u001b[0;34m,\u001b[0m \u001b[0mq_noise_mult\u001b[0m \u001b[0;34m=\u001b[0m \u001b[0mrun_sinkhorn_mult\u001b[0m\u001b[0;34m(\u001b[0m\u001b[0mP_noise\u001b[0m\u001b[0;34m,\u001b[0m \u001b[0mK_noise\u001b[0m\u001b[0;34m,\u001b[0m \u001b[0mP_nonoise\u001b[0m\u001b[0;34m,\u001b[0m \u001b[0mK_nonoise\u001b[0m\u001b[0;34m,\u001b[0m \u001b[0mmax_iterations\u001b[0m\u001b[0;34m)\u001b[0m\u001b[0;34m\u001b[0m\u001b[0;34m\u001b[0m\u001b[0m\n\u001b[0m",
      "\u001b[0;32m<ipython-input-43-a9f802fc1ec1>\u001b[0m in \u001b[0;36mrun_sinkhorn_mult\u001b[0;34m(P_noise, K_noise, P_nonoise, K_nonoise, max_iterations)\u001b[0m\n\u001b[1;32m      2\u001b[0m \u001b[0;32mdef\u001b[0m \u001b[0mrun_sinkhorn_mult\u001b[0m\u001b[0;34m(\u001b[0m\u001b[0mP_noise\u001b[0m\u001b[0;34m,\u001b[0m \u001b[0mK_noise\u001b[0m\u001b[0;34m,\u001b[0m \u001b[0mP_nonoise\u001b[0m\u001b[0;34m,\u001b[0m \u001b[0mK_nonoise\u001b[0m\u001b[0;34m,\u001b[0m \u001b[0mmax_iterations\u001b[0m\u001b[0;34m)\u001b[0m\u001b[0;34m:\u001b[0m\u001b[0;34m\u001b[0m\u001b[0;34m\u001b[0m\u001b[0m\n\u001b[1;32m      3\u001b[0m     \u001b[0mqnonoise\u001b[0m \u001b[0;34m=\u001b[0m \u001b[0msink\u001b[0m\u001b[0;34m.\u001b[0m\u001b[0mbarycenter\u001b[0m\u001b[0;34m(\u001b[0m\u001b[0mP_nonoise\u001b[0m\u001b[0;34m,\u001b[0m \u001b[0mK_nonoise\u001b[0m\u001b[0;34m,\u001b[0m \u001b[0mreference\u001b[0m\u001b[0;34m=\u001b[0m\u001b[0;34m\"debiased\"\u001b[0m\u001b[0;34m,\u001b[0m \u001b[0mmaxiter\u001b[0m \u001b[0;34m=\u001b[0m \u001b[0mmax_iterations\u001b[0m\u001b[0;34m)\u001b[0m\u001b[0;34m\u001b[0m\u001b[0;34m\u001b[0m\u001b[0m\n\u001b[0;32m----> 4\u001b[0;31m     \u001b[0mqnoise\u001b[0m \u001b[0;34m=\u001b[0m \u001b[0msink\u001b[0m\u001b[0;34m.\u001b[0m\u001b[0mbarycenter\u001b[0m\u001b[0;34m(\u001b[0m\u001b[0mP_noise\u001b[0m\u001b[0;34m,\u001b[0m \u001b[0mK_noise\u001b[0m\u001b[0;34m,\u001b[0m \u001b[0mreference\u001b[0m\u001b[0;34m=\u001b[0m\u001b[0;34m\"debiased\"\u001b[0m\u001b[0;34m,\u001b[0m \u001b[0mmaxiter\u001b[0m \u001b[0;34m=\u001b[0m \u001b[0mmax_iterations\u001b[0m\u001b[0;34m)\u001b[0m\u001b[0;34m\u001b[0m\u001b[0;34m\u001b[0m\u001b[0m\n\u001b[0m\u001b[1;32m      5\u001b[0m     \u001b[0;32mreturn\u001b[0m \u001b[0mqnonoise\u001b[0m\u001b[0;34m,\u001b[0m \u001b[0mqnoise\u001b[0m\u001b[0;34m\u001b[0m\u001b[0;34m\u001b[0m\u001b[0m\n\u001b[1;32m      6\u001b[0m \u001b[0;34m\u001b[0m\u001b[0m\n",
      "\u001b[0;32m~/Desktop/Optimal Transport Internship/Optimal_Transport/pascalle_s_drafts/PRNI2018_TLp_bary/sinkhorn_barycenters.py\u001b[0m in \u001b[0;36mbarycenter\u001b[0;34m(P, K, reference, **kwargs)\u001b[0m\n\u001b[1;32m    340\u001b[0m             \u001b[0mfunc\u001b[0m \u001b[0;34m=\u001b[0m \u001b[0mbarycenter_ref_2d\u001b[0m\u001b[0;34m\u001b[0m\u001b[0;34m\u001b[0m\u001b[0m\n\u001b[1;32m    341\u001b[0m \u001b[0;34m\u001b[0m\u001b[0m\n\u001b[0;32m--> 342\u001b[0;31m     \u001b[0;32mreturn\u001b[0m \u001b[0mfunc\u001b[0m\u001b[0;34m(\u001b[0m\u001b[0mP\u001b[0m\u001b[0;34m,\u001b[0m \u001b[0mK\u001b[0m\u001b[0;34m,\u001b[0m \u001b[0;34m**\u001b[0m\u001b[0mkwargs\u001b[0m\u001b[0;34m)\u001b[0m\u001b[0;34m\u001b[0m\u001b[0;34m\u001b[0m\u001b[0m\n\u001b[0m\u001b[1;32m    343\u001b[0m \u001b[0;34m\u001b[0m\u001b[0m\n\u001b[1;32m    344\u001b[0m \u001b[0;34m\u001b[0m\u001b[0m\n",
      "\u001b[0;32m~/Desktop/Optimal Transport Internship/Optimal_Transport/pascalle_s_drafts/PRNI2018_TLp_bary/sinkhorn_barycenters.py\u001b[0m in \u001b[0;36mbarycenter_debiased_2d\u001b[0;34m(P, K, Kb, c, maxiter, tol, weights, return_log)\u001b[0m\n\u001b[1;32m    251\u001b[0m         \u001b[0ma\u001b[0m \u001b[0;34m=\u001b[0m \u001b[0mP\u001b[0m \u001b[0;34m/\u001b[0m \u001b[0mKb\u001b[0m\u001b[0;34m\u001b[0m\u001b[0;34m\u001b[0m\u001b[0m\n\u001b[1;32m    252\u001b[0m         \u001b[0mKa\u001b[0m \u001b[0;34m=\u001b[0m \u001b[0mconvol_imgs\u001b[0m\u001b[0;34m(\u001b[0m\u001b[0ma\u001b[0m\u001b[0;34m,\u001b[0m \u001b[0mK\u001b[0m\u001b[0;34m.\u001b[0m\u001b[0mt\u001b[0m\u001b[0;34m(\u001b[0m\u001b[0;34m)\u001b[0m\u001b[0;34m)\u001b[0m\u001b[0;34m\u001b[0m\u001b[0;34m\u001b[0m\u001b[0m\n\u001b[0;32m--> 253\u001b[0;31m         \u001b[0mq\u001b[0m \u001b[0;34m=\u001b[0m \u001b[0mc\u001b[0m \u001b[0;34m*\u001b[0m \u001b[0mtorch\u001b[0m\u001b[0;34m.\u001b[0m\u001b[0mprod\u001b[0m\u001b[0;34m(\u001b[0m\u001b[0;34m(\u001b[0m\u001b[0mKa\u001b[0m\u001b[0;34m)\u001b[0m \u001b[0;34m**\u001b[0m \u001b[0mweights\u001b[0m\u001b[0;34m[\u001b[0m\u001b[0;34m:\u001b[0m\u001b[0;34m,\u001b[0m \u001b[0;32mNone\u001b[0m\u001b[0;34m,\u001b[0m \u001b[0;32mNone\u001b[0m\u001b[0;34m]\u001b[0m\u001b[0;34m,\u001b[0m \u001b[0mdim\u001b[0m\u001b[0;34m=\u001b[0m\u001b[0;36m0\u001b[0m\u001b[0;34m)\u001b[0m\u001b[0;34m\u001b[0m\u001b[0;34m\u001b[0m\u001b[0m\n\u001b[0m\u001b[1;32m    254\u001b[0m         \u001b[0;32mfor\u001b[0m \u001b[0mkk\u001b[0m \u001b[0;32min\u001b[0m \u001b[0mrange\u001b[0m\u001b[0;34m(\u001b[0m\u001b[0;36m10\u001b[0m\u001b[0;34m)\u001b[0m\u001b[0;34m:\u001b[0m\u001b[0;34m\u001b[0m\u001b[0;34m\u001b[0m\u001b[0m\n\u001b[1;32m    255\u001b[0m             \u001b[0mKc\u001b[0m \u001b[0;34m=\u001b[0m \u001b[0mK\u001b[0m\u001b[0;34m.\u001b[0m\u001b[0mt\u001b[0m\u001b[0;34m(\u001b[0m\u001b[0;34m)\u001b[0m\u001b[0;34m.\u001b[0m\u001b[0mmm\u001b[0m\u001b[0;34m(\u001b[0m\u001b[0mK\u001b[0m\u001b[0;34m.\u001b[0m\u001b[0mmm\u001b[0m\u001b[0;34m(\u001b[0m\u001b[0mc\u001b[0m\u001b[0;34m)\u001b[0m\u001b[0;34m.\u001b[0m\u001b[0mt\u001b[0m\u001b[0;34m(\u001b[0m\u001b[0;34m)\u001b[0m\u001b[0;34m)\u001b[0m\u001b[0;34m.\u001b[0m\u001b[0mt\u001b[0m\u001b[0;34m(\u001b[0m\u001b[0;34m)\u001b[0m\u001b[0;34m\u001b[0m\u001b[0;34m\u001b[0m\u001b[0m\n",
      "\u001b[0;31mKeyboardInterrupt\u001b[0m: "
     ]
    }
   ],
   "source": [
    "##Runs sinkhorn algorithm for multiple data sets within noise and no noise respectively\n",
    "def run_sinkhorn_mult(P_noise, K_noise, P_nonoise, K_nonoise, max_iterations):\n",
    "    qnonoise = sink.barycenter(P_nonoise, K_nonoise, reference=\"debiased\", maxiter = max_iterations)\n",
    "    qnoise = sink.barycenter(P_noise, K_noise, reference=\"debiased\", maxiter = max_iterations)\n",
    "    return qnonoise, qnoise\n",
    "\n",
    "\n",
    "q_nonoise_mult, q_noise_mult = run_sinkhorn_mult(P_noise, K_noise, P_nonoise, K_nonoise, max_iterations)"
   ]
  },
  {
   "cell_type": "code",
   "execution_count": 37,
   "id": "2417d228",
   "metadata": {},
   "outputs": [
    {
     "name": "stdout",
     "output_type": "stream",
     "text": [
      "tensor([[nan, nan, nan,  ..., nan, nan, nan],\n",
      "        [nan, nan, nan,  ..., nan, nan, nan],\n",
      "        [nan, nan, nan,  ..., nan, nan, nan],\n",
      "        ...,\n",
      "        [nan, nan, nan,  ..., nan, nan, nan],\n",
      "        [nan, nan, nan,  ..., nan, nan, nan],\n",
      "        [nan, nan, nan,  ..., nan, nan, nan]], dtype=torch.float64)\n",
      "[15 30 95]\n"
     ]
    }
   ],
   "source": [
    "print(q_noise_mult)\n",
    "print(index)"
   ]
  },
  {
   "cell_type": "code",
   "execution_count": 8,
   "id": "88060547",
   "metadata": {},
   "outputs": [],
   "source": [
    "np.save(\"./index_mult3.npy\", index_mult)\n",
    "np.save(\"./q_nonoise_mult3.npy\", q_nonoise_mult)           \n",
    "np.save(\"./q_noise_mult3.npy\", q_noise_mult)"
   ]
  },
  {
   "cell_type": "code",
   "execution_count": 4,
   "id": "b69f4d92",
   "metadata": {},
   "outputs": [],
   "source": [
    "#plotting results for barycenters with multiple datasets per barycenter\n",
    "q_nonoise_mult = np.load('./q_nonoise_mult3.npy')\n",
    "q_noise_mult = np.load('./q_noise_mult3.npy')\n",
    "index_mult = np.load('./index_mult3.npy')"
   ]
  },
  {
   "cell_type": "code",
   "execution_count": 12,
   "id": "6b6e236b",
   "metadata": {},
   "outputs": [],
   "source": [
    "#function to plot just the barycenter for multiple datasets at once\n",
    "def plot_compare_mult(q_noise, q_nonoise):\n",
    "    m=1\n",
    "    for i in range(0,len(q_nonoise)): #change back to len(q_noise) for the def\n",
    "        plt.figure(1, figsize=(10,100))\n",
    "        plt.subplot(len(q_nonoise),2,i+m)\n",
    "        plt.imshow(q_nonoise[i]) #change back to q_nonoise for the def\n",
    "        plt.title(f\"No Noise \\n max iterations: {int(parameters[i][0])} and epsilon: {parameters[i][1]}\")\n",
    "        plt.axis(\"off\")\n",
    "\n",
    "        plt.subplot(len(q_noise),2,i+m+1)\n",
    "        plt.imshow(q_noise[i]) #change back to q_noise for the def\n",
    "        plt.title(f\"Noise \\n max iterations: {int(parameters[i][0])} and epsilon: {parameters[i][1]}\")\n",
    "        plt.axis(\"off\")\n",
    "        m+=1"
   ]
  },
  {
   "cell_type": "code",
   "execution_count": 14,
   "id": "6a7e8824",
   "metadata": {},
   "outputs": [
    {
     "name": "stdout",
     "output_type": "stream",
     "text": [
      "[3.02734901e-54 3.25078337e-52 2.93123757e-50 2.22306036e-48\n",
      " 1.42025615e-46 7.65514122e-45 3.48613816e-43 1.34323591e-41\n",
      " 4.38495687e-40 1.21436759e-38 2.85660786e-37 5.71462527e-36\n",
      " 9.73329186e-35 1.41299891e-33 1.75019399e-32 1.85149223e-31\n",
      " 1.67438297e-30 1.29558963e-29 8.58458060e-29 4.87467197e-28\n",
      " 2.37387920e-27 9.92081466e-27 3.56021694e-26 1.09770872e-25\n",
      " 2.90935383e-25 6.63129033e-25 1.30035180e-24 2.19447234e-24\n",
      " 3.18806132e-24 3.98792590e-24 4.29599227e-24 3.98587369e-24\n",
      " 3.18529926e-24 2.19251201e-24 1.29978749e-24 6.63575175e-25\n",
      " 2.91688419e-25 1.10371879e-25 3.59403069e-26 1.00678809e-26\n",
      " 2.42521960e-27 5.02133779e-28 8.93134199e-29 1.36392769e-29\n",
      " 1.78717327e-30 2.00789468e-31 1.93280218e-32 1.59277480e-33\n",
      " 1.12270388e-34 6.76267531e-36]\n"
     ]
    }
   ],
   "source": [
    "print(q_nonoise_mult[0])"
   ]
  },
  {
   "cell_type": "code",
   "execution_count": 13,
   "id": "4e383c47",
   "metadata": {},
   "outputs": [
    {
     "ename": "TypeError",
     "evalue": "Invalid shape (50,) for image data",
     "output_type": "error",
     "traceback": [
      "\u001b[0;31m---------------------------------------------------------------------------\u001b[0m",
      "\u001b[0;31mTypeError\u001b[0m                                 Traceback (most recent call last)",
      "\u001b[0;32m<ipython-input-13-5c15a7145ea4>\u001b[0m in \u001b[0;36m<module>\u001b[0;34m\u001b[0m\n\u001b[0;32m----> 1\u001b[0;31m \u001b[0mplot_compare_mult\u001b[0m\u001b[0;34m(\u001b[0m\u001b[0mq_noise_mult\u001b[0m\u001b[0;34m,\u001b[0m \u001b[0mq_nonoise_mult\u001b[0m\u001b[0;34m)\u001b[0m\u001b[0;34m\u001b[0m\u001b[0;34m\u001b[0m\u001b[0m\n\u001b[0m",
      "\u001b[0;32m<ipython-input-12-8e57b19c6fcb>\u001b[0m in \u001b[0;36mplot_compare_mult\u001b[0;34m(q_noise, q_nonoise)\u001b[0m\n\u001b[1;32m      5\u001b[0m         \u001b[0mplt\u001b[0m\u001b[0;34m.\u001b[0m\u001b[0mfigure\u001b[0m\u001b[0;34m(\u001b[0m\u001b[0;36m1\u001b[0m\u001b[0;34m,\u001b[0m \u001b[0mfigsize\u001b[0m\u001b[0;34m=\u001b[0m\u001b[0;34m(\u001b[0m\u001b[0;36m10\u001b[0m\u001b[0;34m,\u001b[0m\u001b[0;36m100\u001b[0m\u001b[0;34m)\u001b[0m\u001b[0;34m)\u001b[0m\u001b[0;34m\u001b[0m\u001b[0;34m\u001b[0m\u001b[0m\n\u001b[1;32m      6\u001b[0m         \u001b[0mplt\u001b[0m\u001b[0;34m.\u001b[0m\u001b[0msubplot\u001b[0m\u001b[0;34m(\u001b[0m\u001b[0mlen\u001b[0m\u001b[0;34m(\u001b[0m\u001b[0mq_nonoise\u001b[0m\u001b[0;34m)\u001b[0m\u001b[0;34m,\u001b[0m\u001b[0;36m2\u001b[0m\u001b[0;34m,\u001b[0m\u001b[0mi\u001b[0m\u001b[0;34m+\u001b[0m\u001b[0mm\u001b[0m\u001b[0;34m)\u001b[0m\u001b[0;34m\u001b[0m\u001b[0;34m\u001b[0m\u001b[0m\n\u001b[0;32m----> 7\u001b[0;31m         \u001b[0mplt\u001b[0m\u001b[0;34m.\u001b[0m\u001b[0mimshow\u001b[0m\u001b[0;34m(\u001b[0m\u001b[0mq_nonoise\u001b[0m\u001b[0;34m[\u001b[0m\u001b[0mi\u001b[0m\u001b[0;34m]\u001b[0m\u001b[0;34m)\u001b[0m \u001b[0;31m#change back to q_nonoise for the def\u001b[0m\u001b[0;34m\u001b[0m\u001b[0;34m\u001b[0m\u001b[0m\n\u001b[0m\u001b[1;32m      8\u001b[0m         \u001b[0mplt\u001b[0m\u001b[0;34m.\u001b[0m\u001b[0mtitle\u001b[0m\u001b[0;34m(\u001b[0m\u001b[0;34mf\"No Noise \\n max iterations: {int(parameters[i][0])} and epsilon: {parameters[i][1]}\"\u001b[0m\u001b[0;34m)\u001b[0m\u001b[0;34m\u001b[0m\u001b[0;34m\u001b[0m\u001b[0m\n\u001b[1;32m      9\u001b[0m         \u001b[0mplt\u001b[0m\u001b[0;34m.\u001b[0m\u001b[0maxis\u001b[0m\u001b[0;34m(\u001b[0m\u001b[0;34m\"off\"\u001b[0m\u001b[0;34m)\u001b[0m\u001b[0;34m\u001b[0m\u001b[0;34m\u001b[0m\u001b[0m\n",
      "\u001b[0;32m/opt/anaconda3/lib/python3.7/site-packages/matplotlib/pyplot.py\u001b[0m in \u001b[0;36mimshow\u001b[0;34m(X, cmap, norm, aspect, interpolation, alpha, vmin, vmax, origin, extent, filternorm, filterrad, resample, url, data, **kwargs)\u001b[0m\n\u001b[1;32m   2728\u001b[0m         \u001b[0mfilternorm\u001b[0m\u001b[0;34m=\u001b[0m\u001b[0mfilternorm\u001b[0m\u001b[0;34m,\u001b[0m \u001b[0mfilterrad\u001b[0m\u001b[0;34m=\u001b[0m\u001b[0mfilterrad\u001b[0m\u001b[0;34m,\u001b[0m \u001b[0mresample\u001b[0m\u001b[0;34m=\u001b[0m\u001b[0mresample\u001b[0m\u001b[0;34m,\u001b[0m\u001b[0;34m\u001b[0m\u001b[0;34m\u001b[0m\u001b[0m\n\u001b[1;32m   2729\u001b[0m         \u001b[0murl\u001b[0m\u001b[0;34m=\u001b[0m\u001b[0murl\u001b[0m\u001b[0;34m,\u001b[0m \u001b[0;34m**\u001b[0m\u001b[0;34m(\u001b[0m\u001b[0;34m{\u001b[0m\u001b[0;34m\"data\"\u001b[0m\u001b[0;34m:\u001b[0m \u001b[0mdata\u001b[0m\u001b[0;34m}\u001b[0m \u001b[0;32mif\u001b[0m \u001b[0mdata\u001b[0m \u001b[0;32mis\u001b[0m \u001b[0;32mnot\u001b[0m \u001b[0;32mNone\u001b[0m \u001b[0;32melse\u001b[0m \u001b[0;34m{\u001b[0m\u001b[0;34m}\u001b[0m\u001b[0;34m)\u001b[0m\u001b[0;34m,\u001b[0m\u001b[0;34m\u001b[0m\u001b[0;34m\u001b[0m\u001b[0m\n\u001b[0;32m-> 2730\u001b[0;31m         **kwargs)\n\u001b[0m\u001b[1;32m   2731\u001b[0m     \u001b[0msci\u001b[0m\u001b[0;34m(\u001b[0m\u001b[0m__ret\u001b[0m\u001b[0;34m)\u001b[0m\u001b[0;34m\u001b[0m\u001b[0;34m\u001b[0m\u001b[0m\n\u001b[1;32m   2732\u001b[0m     \u001b[0;32mreturn\u001b[0m \u001b[0m__ret\u001b[0m\u001b[0;34m\u001b[0m\u001b[0;34m\u001b[0m\u001b[0m\n",
      "\u001b[0;32m/opt/anaconda3/lib/python3.7/site-packages/matplotlib/__init__.py\u001b[0m in \u001b[0;36minner\u001b[0;34m(ax, data, *args, **kwargs)\u001b[0m\n\u001b[1;32m   1445\u001b[0m     \u001b[0;32mdef\u001b[0m \u001b[0minner\u001b[0m\u001b[0;34m(\u001b[0m\u001b[0max\u001b[0m\u001b[0;34m,\u001b[0m \u001b[0;34m*\u001b[0m\u001b[0margs\u001b[0m\u001b[0;34m,\u001b[0m \u001b[0mdata\u001b[0m\u001b[0;34m=\u001b[0m\u001b[0;32mNone\u001b[0m\u001b[0;34m,\u001b[0m \u001b[0;34m**\u001b[0m\u001b[0mkwargs\u001b[0m\u001b[0;34m)\u001b[0m\u001b[0;34m:\u001b[0m\u001b[0;34m\u001b[0m\u001b[0;34m\u001b[0m\u001b[0m\n\u001b[1;32m   1446\u001b[0m         \u001b[0;32mif\u001b[0m \u001b[0mdata\u001b[0m \u001b[0;32mis\u001b[0m \u001b[0;32mNone\u001b[0m\u001b[0;34m:\u001b[0m\u001b[0;34m\u001b[0m\u001b[0;34m\u001b[0m\u001b[0m\n\u001b[0;32m-> 1447\u001b[0;31m             \u001b[0;32mreturn\u001b[0m \u001b[0mfunc\u001b[0m\u001b[0;34m(\u001b[0m\u001b[0max\u001b[0m\u001b[0;34m,\u001b[0m \u001b[0;34m*\u001b[0m\u001b[0mmap\u001b[0m\u001b[0;34m(\u001b[0m\u001b[0msanitize_sequence\u001b[0m\u001b[0;34m,\u001b[0m \u001b[0margs\u001b[0m\u001b[0;34m)\u001b[0m\u001b[0;34m,\u001b[0m \u001b[0;34m**\u001b[0m\u001b[0mkwargs\u001b[0m\u001b[0;34m)\u001b[0m\u001b[0;34m\u001b[0m\u001b[0;34m\u001b[0m\u001b[0m\n\u001b[0m\u001b[1;32m   1448\u001b[0m \u001b[0;34m\u001b[0m\u001b[0m\n\u001b[1;32m   1449\u001b[0m         \u001b[0mbound\u001b[0m \u001b[0;34m=\u001b[0m \u001b[0mnew_sig\u001b[0m\u001b[0;34m.\u001b[0m\u001b[0mbind\u001b[0m\u001b[0;34m(\u001b[0m\u001b[0max\u001b[0m\u001b[0;34m,\u001b[0m \u001b[0;34m*\u001b[0m\u001b[0margs\u001b[0m\u001b[0;34m,\u001b[0m \u001b[0;34m**\u001b[0m\u001b[0mkwargs\u001b[0m\u001b[0;34m)\u001b[0m\u001b[0;34m\u001b[0m\u001b[0;34m\u001b[0m\u001b[0m\n",
      "\u001b[0;32m/opt/anaconda3/lib/python3.7/site-packages/matplotlib/axes/_axes.py\u001b[0m in \u001b[0;36mimshow\u001b[0;34m(self, X, cmap, norm, aspect, interpolation, alpha, vmin, vmax, origin, extent, filternorm, filterrad, resample, url, **kwargs)\u001b[0m\n\u001b[1;32m   5521\u001b[0m                               resample=resample, **kwargs)\n\u001b[1;32m   5522\u001b[0m \u001b[0;34m\u001b[0m\u001b[0m\n\u001b[0;32m-> 5523\u001b[0;31m         \u001b[0mim\u001b[0m\u001b[0;34m.\u001b[0m\u001b[0mset_data\u001b[0m\u001b[0;34m(\u001b[0m\u001b[0mX\u001b[0m\u001b[0;34m)\u001b[0m\u001b[0;34m\u001b[0m\u001b[0;34m\u001b[0m\u001b[0m\n\u001b[0m\u001b[1;32m   5524\u001b[0m         \u001b[0mim\u001b[0m\u001b[0;34m.\u001b[0m\u001b[0mset_alpha\u001b[0m\u001b[0;34m(\u001b[0m\u001b[0malpha\u001b[0m\u001b[0;34m)\u001b[0m\u001b[0;34m\u001b[0m\u001b[0;34m\u001b[0m\u001b[0m\n\u001b[1;32m   5525\u001b[0m         \u001b[0;32mif\u001b[0m \u001b[0mim\u001b[0m\u001b[0;34m.\u001b[0m\u001b[0mget_clip_path\u001b[0m\u001b[0;34m(\u001b[0m\u001b[0;34m)\u001b[0m \u001b[0;32mis\u001b[0m \u001b[0;32mNone\u001b[0m\u001b[0;34m:\u001b[0m\u001b[0;34m\u001b[0m\u001b[0;34m\u001b[0m\u001b[0m\n",
      "\u001b[0;32m/opt/anaconda3/lib/python3.7/site-packages/matplotlib/image.py\u001b[0m in \u001b[0;36mset_data\u001b[0;34m(self, A)\u001b[0m\n\u001b[1;32m    710\u001b[0m                 or self._A.ndim == 3 and self._A.shape[-1] in [3, 4]):\n\u001b[1;32m    711\u001b[0m             raise TypeError(\"Invalid shape {} for image data\"\n\u001b[0;32m--> 712\u001b[0;31m                             .format(self._A.shape))\n\u001b[0m\u001b[1;32m    713\u001b[0m \u001b[0;34m\u001b[0m\u001b[0m\n\u001b[1;32m    714\u001b[0m         \u001b[0;32mif\u001b[0m \u001b[0mself\u001b[0m\u001b[0;34m.\u001b[0m\u001b[0m_A\u001b[0m\u001b[0;34m.\u001b[0m\u001b[0mndim\u001b[0m \u001b[0;34m==\u001b[0m \u001b[0;36m3\u001b[0m\u001b[0;34m:\u001b[0m\u001b[0;34m\u001b[0m\u001b[0;34m\u001b[0m\u001b[0m\n",
      "\u001b[0;31mTypeError\u001b[0m: Invalid shape (50,) for image data"
     ]
    },
    {
     "data": {
      "image/png": "[encoded data removed]",
      "text/plain": [
       "<Figure size 720x7200 with 1 Axes>"
      ]
     },
     "metadata": {
      "needs_background": "light"
     },
     "output_type": "display_data"
    }
   ],
   "source": [
    "plot_compare_mult(q_noise_mult, q_nonoise_mult) "
   ]
  },
  {
   "cell_type": "code",
   "execution_count": 21,
   "id": "a3a69ded",
   "metadata": {},
   "outputs": [],
   "source": [
    "i = [15,95]\n",
    "noise = abs(np.load(\"./artificial_data.npy\")[i])"
   ]
  },
  {
   "cell_type": "code",
   "execution_count": 22,
   "id": "21fd678d",
   "metadata": {},
   "outputs": [
    {
     "data": {
      "text/plain": [
       "(2, 50, 50)"
      ]
     },
     "execution_count": 22,
     "metadata": {},
     "output_type": "execute_result"
    }
   ],
   "source": [
    "noise.shape"
   ]
  },
  {
   "cell_type": "code",
   "execution_count": null,
   "id": "ad8ae602",
   "metadata": {},
   "outputs": [],
   "source": []
  }
 ],
 "metadata": {
  "kernelspec": {
   "display_name": "Python 3",
   "language": "python",
   "name": "python3"
  },
  "language_info": {
   "codemirror_mode": {
    "name": "ipython",
    "version": 3
   },
   "file_extension": ".py",
   "mimetype": "text/x-python",
   "name": "python",
   "nbconvert_exporter": "python",
   "pygments_lexer": "ipython3",
   "version": "3.7.6"
  }
 },
 "nbformat": 4,
 "nbformat_minor": 5
}
